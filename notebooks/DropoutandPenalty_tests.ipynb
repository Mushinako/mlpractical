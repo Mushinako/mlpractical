{
 "cells": [
  {
   "cell_type": "code",
   "execution_count": 2,
   "metadata": {
    "scrolled": true
   },
   "outputs": [
    {
     "name": "stdout",
     "output_type": "stream",
     "text": [
      "Dropout Layer Fprop Functionality Test Passed\n",
      "Dropout Layer Bprop Test Passed\n"
     ]
    }
   ],
   "source": [
    "from mlp.test_methods import test_dropout_layer\n",
    "import numpy as np\n",
    "\n",
    "(\n",
    "    fprop_test,\n",
    "    fprop_output,\n",
    "    fprop_correct,\n",
    "    bprop_test,\n",
    "    bprop_output,\n",
    "    bprop_correct,\n",
    ") = test_dropout_layer()\n",
    "\n",
    "assert fprop_test == 1.0, (\n",
    "    \"The dropout layer fprop functionality test failed\\n\"\n",
    "    f\"Correct output is {fprop_correct}\\n\"\n",
    "    f\"but returned output is {fprop_output}\"\n",
    ")\n",
    "\n",
    "print(\"Dropout Layer Fprop Functionality Test Passed\")\n",
    "\n",
    "assert bprop_test == 1.0, (\n",
    "    \"The dropout layer bprop functionality test failed\\n\"\n",
    "    f\"Correct output is {bprop_correct}\\n\"\n",
    "    f\"but returned output is {bprop_output}\"\n",
    ")\n",
    "\n",
    "print(\"Dropout Layer Bprop Test Passed\")\n"
   ]
  },
  {
   "cell_type": "code",
   "execution_count": 1,
   "metadata": {},
   "outputs": [
    {
     "name": "stdout",
     "output_type": "stream",
     "text": [
      "L1 Penalty Call Functionality Test Passed\n",
      "L1 Penalty Grad Function Test Passed\n"
     ]
    }
   ],
   "source": [
    "from mlp.test_methods import test_L1_Penalty\n",
    "\n",
    "\n",
    "(\n",
    "    call_test,\n",
    "    call_output,\n",
    "    call_correct,\n",
    "    grad_test,\n",
    "    grad_output,\n",
    "    grad_correct,\n",
    ") = test_L1_Penalty()\n",
    "\n",
    "\n",
    "assert call_test == 1.0, (\n",
    "    \"The call function for L1 Penalty test failed\\n\"\n",
    "    f\"Correct output is {call_correct}\\n\"\n",
    "    f\"but returned output is {call_output}\"\n",
    ")\n",
    "\n",
    "print(\"L1 Penalty Call Functionality Test Passed\")\n",
    "\n",
    "assert grad_test == 1.0, (\n",
    "    \"The grad function for L1 Penalty test failed\\n\"\n",
    "    f\"Correct output is {grad_correct}\\n\"\n",
    "    f\"but returned output is {grad_output}\"\n",
    ")\n",
    "\n",
    "\n",
    "print(\"L1 Penalty Grad Function Test Passed\")\n"
   ]
  },
  {
   "cell_type": "code",
   "execution_count": 1,
   "metadata": {},
   "outputs": [
    {
     "name": "stdout",
     "output_type": "stream",
     "text": [
      "L2 Penalty Call Functionality Test Passed\n",
      "L2 Penalty Grad Function Test Passed\n"
     ]
    }
   ],
   "source": [
    "from mlp.test_methods import test_L2_Penalty\n",
    "\n",
    "\n",
    "(\n",
    "    call_test,\n",
    "    call_output,\n",
    "    call_correct,\n",
    "    grad_test,\n",
    "    grad_output,\n",
    "    grad_correct,\n",
    ") = test_L2_Penalty()\n",
    "\n",
    "\n",
    "assert call_test == 1.0, (\n",
    "    \"The call function for L2 Penalty test failed\\n\"\n",
    "    f\"Correct output is {call_correct}\\n\"\n",
    "    f\"but returned output is {call_output}\"\n",
    ")\n",
    "\n",
    "print(\"L2 Penalty Call Functionality Test Passed\")\n",
    "\n",
    "assert grad_test == 1.0, (\n",
    "    \"The grad function for L2 Penalty test failed\\n\"\n",
    "    f\"Correct output is {grad_correct}\\n\"\n",
    "    f\"but returned output is {grad_output}\"\n",
    ")\n",
    "\n",
    "\n",
    "print(\"L2 Penalty Grad Function Test Passed\")\n"
   ]
  }
 ],
 "metadata": {
  "kernelspec": {
   "display_name": "Python 3",
   "language": "python",
   "name": "python3"
  },
  "language_info": {
   "codemirror_mode": {
    "name": "ipython",
    "version": 3
   },
   "file_extension": ".py",
   "mimetype": "text/x-python",
   "name": "python",
   "nbconvert_exporter": "python",
   "pygments_lexer": "ipython3",
   "version": "3.9.7"
  }
 },
 "nbformat": 4,
 "nbformat_minor": 1
}
