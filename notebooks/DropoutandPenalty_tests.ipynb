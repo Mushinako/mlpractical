{
 "cells": [
  {
   "cell_type": "code",
   "execution_count": 1,
   "metadata": {
    "scrolled": true
   },
   "outputs": [
    {
     "name": "stdout",
     "output_type": "stream",
     "text": [
      "Dropout Layer Fprop Functionality Test Passed\n",
      "Dropout Layer Bprop Test Passed\n"
     ]
    }
   ],
   "source": [
    "from mlp.test_methods import test_dropout_layer\n",
    "import numpy as np\n",
    "\n",
    "(\n",
    "    fprop_test,\n",
    "    fprop_output,\n",
    "    fprop_correct,\n",
    "    bprop_test,\n",
    "    bprop_output,\n",
    "    bprop_correct,\n",
    ") = test_dropout_layer()\n",
    "\n",
    "assert fprop_test == 1.0, (\n",
    "    \"The dropout layer fprop functionality test failed\"\n",
    "    \"Correct output is \\n\\n{0}\\n\\n but returned output is \\n\\n{1}\\n\\n difference is \\n\\n{2}\".format(\n",
    "        fprop_correct, fprop_output, fprop_output - fprop_correct\n",
    "    )\n",
    ")\n",
    "\n",
    "print(\"Dropout Layer Fprop Functionality Test Passed\")\n",
    "\n",
    "assert bprop_test == 1.0, (\n",
    "    \"The dropout layer bprop functionality test failed\"\n",
    "    \"Correct output is \\n\\n{0}\\n\\n but returned output is \\n\\n{1}\\n\\n difference is \\n\\n{2}\".format(\n",
    "        bprop_correct, bprop_output, bprop_output - bprop_correct\n",
    "    )\n",
    ")\n",
    "\n",
    "print(\"Dropout Layer Bprop Test Passed\")\n"
   ]
  },
  {
   "cell_type": "code",
   "execution_count": null,
   "metadata": {},
   "outputs": [],
   "source": [
    "from mlp.test_methods import test_L1_Penalty\n",
    "\n",
    "\n",
    "(\n",
    "    call_test,\n",
    "    call_output,\n",
    "    call_correct,\n",
    "    grad_test,\n",
    "    grad_output,\n",
    "    grad_correct,\n",
    ") = test_L1_Penalty()\n",
    "\n",
    "\n",
    "assert call_test == 1.0, (\n",
    "    \"The call function for L1 Penalty test failed\"\n",
    "    \"Correct output is \\n\\n{0}\\n\\n but returned output is \\n\\n{1}\\n\\n difference is \\n\\n{2}\".format(\n",
    "        call_correct, call_output, call_output - call_correct\n",
    "    )\n",
    ")\n",
    "\n",
    "print(\"L1 Penalty Call Functionality Test Passed\")\n",
    "\n",
    "assert (\n",
    "    grad_test == 1.0\n",
    "), \"The grad function for L1 Penalty test failed\" \"Correct output is \\n\\n{0}\\n\\n but returned output is \\n\\n{1}\\n\\n difference is \\n\\n{2}\".format(\n",
    "    grad_correct,\n",
    "    grad_output,\n",
    "    grad_output - grad_correct,\n",
    "    grad_output / grad_correct,\n",
    ")\n",
    "\n",
    "\n",
    "print(\"L1 Penalty Grad Function Test Passed\")\n"
   ]
  },
  {
   "cell_type": "code",
   "execution_count": null,
   "metadata": {},
   "outputs": [],
   "source": [
    "from mlp.test_methods import test_L2_Penalty\n",
    "\n",
    "\n",
    "(\n",
    "    call_test,\n",
    "    call_output,\n",
    "    call_correct,\n",
    "    grad_test,\n",
    "    grad_output,\n",
    "    grad_correct,\n",
    ") = test_L2_Penalty()\n",
    "\n",
    "\n",
    "assert call_test == 1.0, (\n",
    "    \"The call function for L2 Penalty test failed\"\n",
    "    \"Correct output is \\n\\n{0}\\n\\n but returned output is \\n\\n{1}\\n\\n difference is \\n\\n{2}\".format(\n",
    "        call_correct, call_output, call_output - call_correct\n",
    "    )\n",
    ")\n",
    "\n",
    "print(\"L2 Penalty Call Functionality Test Passed\")\n",
    "\n",
    "assert grad_test == 1.0, (\n",
    "    \"The grad function for L2 Penalty test failed\"\n",
    "    \"Correct output is \\n\\n{0}\\n\\n but returned output is \\n\\n{1}\\n\\n difference is \\n\\n{2}\".format(\n",
    "        grad_correct,\n",
    "        grad_output,\n",
    "        grad_output - grad_correct,\n",
    "        grad_output / grad_correct,\n",
    "    )\n",
    ")\n",
    "\n",
    "\n",
    "print(\"L2 Penalty Grad Function Test Passed\")\n"
   ]
  }
 ],
 "metadata": {
  "interpreter": {
   "hash": "41a445ace4f21d9f0dce08bc0cfb89ad306845c53b21585dc74380327349165b"
  },
  "kernelspec": {
   "display_name": "Python 3.10.0 64-bit ('venv': venv)",
   "name": "python3"
  },
  "language_info": {
   "codemirror_mode": {
    "name": "ipython",
    "version": 3
   },
   "file_extension": ".py",
   "mimetype": "text/x-python",
   "name": "python",
   "nbconvert_exporter": "python",
   "pygments_lexer": "ipython3",
   "version": "3.10.0"
  }
 },
 "nbformat": 4,
 "nbformat_minor": 1
}
